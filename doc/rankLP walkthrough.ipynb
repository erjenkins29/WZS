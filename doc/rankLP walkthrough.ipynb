{
 "cells": [
  {
   "cell_type": "markdown",
   "metadata": {},
   "source": [
    "## Walkthrough of the WZS project\n",
    "\n",
    "This notebook will explain how to use all modules contained in this project for analysis, using the ipython notebook to allow the user to run code and test different methods for creating new LP problems.  For a general overview of the project, or for information on running automated scripts, see README.md \n",
    "\n",
    "The modules this document will cover are:\n",
    "- rankLP.py\n",
    "- emailnotice.py\n",
    "- examples.dfxxx"
   ]
  },
  {
   "cell_type": "code",
   "execution_count": 1,
   "metadata": {
    "collapsed": false
   },
   "outputs": [
    {
     "name": "stdout",
     "output_type": "stream",
     "text": [
      "Populating the interactive namespace from numpy and matplotlib\n"
     ]
    }
   ],
   "source": [
    "%pylab inline\n",
    "import pandas as pd\n",
    "import re\n",
    "from pulp import GLPK, PULP_CBC_CMD\n",
    "import time\n",
    "\n",
    "scriptStartTime = time.time()"
   ]
  },
  {
   "cell_type": "markdown",
   "metadata": {},
   "source": [
    "### importing rankLP module"
   ]
  },
  {
   "cell_type": "code",
   "execution_count": 2,
   "metadata": {
    "collapsed": true
   },
   "outputs": [],
   "source": [
    "import rankLP as rlp"
   ]
  },
  {
   "cell_type": "markdown",
   "metadata": {},
   "source": [
    "### examples.dfxxx\n",
    "\n",
    "The following line of code imports an already pre-processed pandas dataframe (df), corresponding to the kind of data we need for solving the LP problem we will be creating."
   ]
  },
  {
   "cell_type": "code",
   "execution_count": 3,
   "metadata": {
    "collapsed": false,
    "scrolled": true
   },
   "outputs": [
    {
     "name": "stdout",
     "output_type": "stream",
     "text": [
      "category [30010303] fenlei [沐浴乳 露]\n",
      "Total rows (M) before preprocessing: 147\n"
     ]
    }
   ],
   "source": [
    "from examples.df929 import df"
   ]
  },
  {
   "cell_type": "markdown",
   "metadata": {},
   "source": [
    "## Customize analysis\n",
    "\n",
    "Here are some options to customize an analysis:\n",
    "\n",
    "- preprocessing the df further"
   ]
  },
  {
   "cell_type": "code",
   "execution_count": 4,
   "metadata": {
    "collapsed": true
   },
   "outputs": [],
   "source": [
    "df = rlp.normalizeColumns(df)   ##converts all integers to a range of numbers between (0,1)\n",
    "df = rlp.flipRankCols(df)       ##makes high ranks (like 1524) into low numbers, low ranks (like 7) into high numbers"
   ]
  },
  {
   "cell_type": "markdown",
   "metadata": {},
   "source": [
    "- change the lower/upper bounds, pass as arguments to the forceSolution function"
   ]
  },
  {
   "cell_type": "code",
   "execution_count": 5,
   "metadata": {
    "collapsed": true
   },
   "outputs": [],
   "source": [
    "#lboundA =                       ##default .01      ##copy this: lbound_a=lboundA\n",
    "uboundA = 10                      ##default 10      ##copy this: ubound_a=uboundA\n",
    "lboundV = 1                      ##default .01      ##copy this: lbound_v=lboundV\n",
    "uboundV = 100                      ##default 100      ##copy this: ubound_v=uboundV"
   ]
  },
  {
   "cell_type": "markdown",
   "metadata": {},
   "source": [
    "### Start solving LP problems\n",
    "\n",
    "specify solving method (add more here for whichever methods are installed)"
   ]
  },
  {
   "cell_type": "code",
   "execution_count": 6,
   "metadata": {
    "collapsed": true
   },
   "outputs": [],
   "source": [
    "solver=PULP_CBC_CMD()                      #default, comes with pulp\n",
    "#solver=GLPK()"
   ]
  },
  {
   "cell_type": "markdown",
   "metadata": {},
   "source": [
    "First, solve by pages and pageset.  We'll do this first since the examples.df929 dataframe contains a column \"page\", which we'll need to drop when solving by product.  Note that this column is not used in solving -- it's only used to understand how to define the conditions in the LP problem.  \n",
    "\n",
    "The forceSolution() function will keep sampling from df until it finds a solution, starting with the entire product set (M products), then sampling (M-1) products, then sampling (M-2) products, and so forth until a solution is found.  These solutions will be reported on in images/Mdistributions.png"
   ]
  },
  {
   "cell_type": "code",
   "execution_count": 7,
   "metadata": {
    "collapsed": false
   },
   "outputs": [],
   "source": [
    "prob_page = rlp.forceSolution(df, by=\"page\", solver=solver, ubound_a=uboundA, lbound_v=lboundV, ubound_v=uboundV)\n",
    "\n",
    "##Define a custom page set here\n",
    "pageset = {1:range(1,2), 2:range(2,4), 3:range(4,8)}\n",
    "prob_pageset = rlp.forceSolution(df, by=\"pageset\", solver=solver, c=pageset, ubound_a=uboundA, lbound_v=lboundV, ubound_v=uboundV)\n",
    "##\n",
    "##  Note: only define the first pagesets.  The tail will be captured by the rankByPageset() function"
   ]
  },
  {
   "cell_type": "markdown",
   "metadata": {},
   "source": [
    "Now, solve by product, forcing product scores to monotonically decrease."
   ]
  },
  {
   "cell_type": "code",
   "execution_count": 8,
   "metadata": {
    "collapsed": false
   },
   "outputs": [],
   "source": [
    "###remove page feature\n",
    "df = df.drop(\"page\", axis=1)\n",
    "\n",
    "prob_prod = rlp.forceSolution(df, by=\"product\", solver=solver, ubound_a=uboundA, lbound_v=lboundV, ubound_v=uboundV)"
   ]
  },
  {
   "cell_type": "markdown",
   "metadata": {},
   "source": [
    "### Visualize the results"
   ]
  },
  {
   "cell_type": "code",
   "execution_count": 9,
   "metadata": {
    "collapsed": false
   },
   "outputs": [
    {
     "data": {
      "image/png": "[encoded data removed]",
      "text/plain": [
       "<matplotlib.figure.Figure at 0x7f434384d210>"
      ]
     },
     "metadata": {},
     "output_type": "display_data"
    }
   ],
   "source": [
    "rlp.plotSolutions(prob_prod, prob_page, prob_pageset, pageset, lboundV)"
   ]
  },
  {
   "cell_type": "code",
   "execution_count": 10,
   "metadata": {
    "collapsed": false
   },
   "outputs": [
    {
     "name": "stdout",
     "output_type": "stream",
     "text": [
      "time to execute script: 50.8 seconds\n"
     ]
    }
   ],
   "source": [
    "print \"time to execute script: %.1f seconds\" % (time.time() - scriptStartTime)"
   ]
  },
  {
   "cell_type": "markdown",
   "metadata": {},
   "source": [
    "If doing ad-hoc analysis, visualize the values for $a_i$, $b_i$, $c_i$, or $v_i$ of a given problem-type"
   ]
  },
  {
   "cell_type": "code",
   "execution_count": 24,
   "metadata": {
    "collapsed": false
   },
   "outputs": [
    {
     "name": "stdout",
     "output_type": "stream",
     "text": [
      "a__DOVE \t= 0.01\n",
      "a__HAZELINE \t= 8.1363608\n",
      "a__LIFEBUOY \t= 6.460859\n",
      "a__LUX \t= 0.01\n",
      "a__LYNX \t= 10.0\n",
      "a__agg02 \t= 10.0\n",
      "a__agg04 \t= 0.01\n",
      "a__agg07 \t= 5.9959182\n",
      "a__agg09 \t= 2.1590767\n",
      "a__agg10 \t= 8.3602956\n",
      "a__agg11 \t= 10.0\n",
      "a__agg12 \t= 0.01\n",
      "a__agg13 \t= 0.01\n",
      "a__agg14 \t= 0.01\n",
      "a__agg15 \t= 0.01\n",
      "a__agg16 \t= 0.01\n",
      "a__agg17 \t= 0.01\n",
      "a__allcomments \t= 0.01\n",
      "a__c26 \t= 0.14306731\n",
      "a__c28 \t= 0.01\n",
      "a__c30 \t= 0.01\n",
      "a__c34 \t= 0.086273189\n",
      "a__c45 \t= 0.01\n",
      "a__currentprice \t= 0.17700276\n",
      "a__featagg01 \t= 0.012043681\n",
      "a__featagg013 \t= 0.01\n",
      "a__featagg02 \t= 10.0\n",
      "a__featagg03 \t= 0.01\n",
      "a__featagg033 \t= 0.01\n",
      "a__featagg04 \t= 0.01\n",
      "a__featagg043 \t= 0.018421462\n",
      "a__featagg05 \t= 0.01\n",
      "a__featagg053 \t= 0.01\n",
      "a__featagg07 \t= 0.01\n",
      "a__featagg073 \t= 0.01\n",
      "a__featagg08 \t= 10.0\n",
      "a__hasAttr00 \t= 10.0\n",
      "a__hasAttr01 \t= 2.4850981\n",
      "a__hasAttr02 \t= 0.01\n",
      "a__hasAttr03 \t= 10.0\n",
      "a__hasAttr04 \t= 9.8468802\n",
      "a__hasAttr05 \t= 5.0428064\n",
      "a__hasAttr06 \t= 9.9934668\n",
      "a__is_in_stock \t= 6.0165386\n",
      "a__medium_comment_num \t= 0.01\n",
      "a__negative_comment_num \t= 0.01\n",
      "a__positive_comment_num \t= 0.053002045\n",
      "a__q30 \t= 0.27746598\n",
      "a__rank14 \t= 0.01\n",
      "a__rank30 \t= 0.01\n",
      "a__rank60 \t= 0.049131209\n",
      "a__rank7 \t= 0.50840751\n",
      "v_0_0007 \t= 1.0130392\n",
      "v_0_0009 \t= 1.0188605\n",
      "v_0_0031 \t= 1.0150804\n",
      "v_0_0041 \t= 1.0154532\n",
      "v_0_0048 \t= 1.0130392\n",
      "v_0_0060 \t= 1.0130392\n",
      "v_0_0066 \t= 1.0130392\n",
      "v_0_0083 \t= 1.0118871\n",
      "v_0_0084 \t= 1.0118871\n",
      "v_0_0085 \t= 1.0126441\n",
      "v_0_0090 \t= 1.0118871\n",
      "v_0_0106 \t= 1.0120433\n",
      "v_0_0127 \t= 1.0118871\n",
      "v_0_0129 \t= 1.0107396\n",
      "v_0_0139 \t= 1.0107396\n",
      "v_0_0150 \t= 1.0118871\n",
      "v_0_0186 \t= 1.0081519\n",
      "v_0_0189 \t= 1.0101918\n",
      "v_0_0196 \t= 1.0099632\n",
      "v_0_0197 \t= 1.0107396\n",
      "v_0_0221 \t= 1.0096059\n",
      "v_0_0231 \t= 1.0087918\n",
      "v_0_0252 \t= 1.0081519\n",
      "v_0_0263 \t= 1.0081519\n",
      "v_0_0315 \t= 1.0081519\n",
      "v_0_0374 \t= 1.0074195\n",
      "v_0_0410 \t= 1.0081519\n",
      "v_0_0411 \t= 1.0079806\n",
      "v_0_0414 \t= 1.0074195\n",
      "v_0_0416 \t= 1.0077084\n",
      "v_0_0426 \t= 1.0064771\n",
      "v_0_0432 \t= 1.0073264\n",
      "v_0_0457 \t= 1.0074195\n",
      "v_0_0461 \t= 1.0065112\n",
      "v_0_0507 \t= 1.0060663\n",
      "v_0_0511 \t= 1.0060574\n",
      "v_0_0517 \t= 1.0037224\n",
      "v_0_0518 \t= 1.004285\n",
      "v_0_0521 \t= 1.0062768\n",
      "v_0_0605 \t= 1.0037224\n",
      "v_0_0673 \t= 1.0028177\n",
      "v_0_0735 \t= 1.0028177\n",
      "v_0_1232 \t= 1.0\n",
      "v_0_1346 \t= 1.0\n"
     ]
    }
   ],
   "source": [
    "rlp.viewAs(prob_page)\n",
    "#rlp.viewBs(prob_prod)\n",
    "#rlp.viewCs(prob_prod)\n",
    "rlp.viewVs(prob_page)\n",
    "#rlp.viewAll(prob_prod)"
   ]
  },
  {
   "cell_type": "markdown",
   "metadata": {},
   "source": [
    "Optionally, you can pass the viewAs method a threshold to restrict those values which are _above_ the threshold."
   ]
  },
  {
   "cell_type": "code",
   "execution_count": 41,
   "metadata": {
    "collapsed": false
   },
   "outputs": [
    {
     "data": {
      "image/png": "[encoded data removed]",
      "text/plain": [
       "<matplotlib.figure.Figure at 0x7fb9ec6692d0>"
      ]
     },
     "metadata": {},
     "output_type": "display_data"
    }
   ],
   "source": [
    "msg = \"LP solution script finished!\\n\\n Counts of solutions for each product type given in bins of [0,2,4,...,68,70]\\n\"\n",
    "for probtype in [\"prod\", \"page\",\"pageset\"]:\n",
    "    msg += \"\\nSolutions and important attributes for %s:\\n\\n\" % probtype\n",
    "    n, bins, plot = hist(Mprod, range=(0,70), bins=35)\n",
    "    msg += str(n)+\"\\n\\n\"\n",
    "    for k in sorted(importanceDict[\"prod\"], key=importanceDict[\"prod\"].get, reverse=True):\n",
    "        msg += \"%s:\\t%i\\n\" % (k,importanceDict[\"prod\"][k]) "
   ]
  },
  {
   "cell_type": "code",
   "execution_count": 11,
   "metadata": {
    "collapsed": false
   },
   "outputs": [
    {
     "data": {
      "text/plain": [
       "<module 'rankLP' from 'rankLP.py'>"
      ]
     },
     "execution_count": 11,
     "metadata": {},
     "output_type": "execute_result"
    }
   ],
   "source": [
    "reload(rlp)"
   ]
  },
  {
   "cell_type": "code",
   "execution_count": null,
   "metadata": {
    "collapsed": true
   },
   "outputs": [],
   "source": []
  }
 ],
 "metadata": {
  "kernelspec": {
   "display_name": "Python 2",
   "language": "python",
   "name": "python2"
  },
  "language_info": {
   "codemirror_mode": {
    "name": "ipython",
    "version": 2
   },
   "file_extension": ".py",
   "mimetype": "text/x-python",
   "name": "python",
   "nbconvert_exporter": "python",
   "pygments_lexer": "ipython2",
   "version": "2.7.9"
  }
 },
 "nbformat": 4,
 "nbformat_minor": 0
}
