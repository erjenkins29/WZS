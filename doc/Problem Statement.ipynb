{
 "cells": [
  {
   "cell_type": "markdown",
   "metadata": {},
   "source": [
    "## The problem\n",
    "\n",
    "Given a set of JD products $\\{p_1, \\dots, p_M \\} $, reverse engineer the following function: \n",
    "\n",
    "$$JD_{rank} : \\{ p_i \\} \\mapsto \\{ 1, 2, \\dots, M\\}$$\n",
    "\n",
    "### Not ranked by sales\n",
    "\n",
    "The data has proven that JD's \"by sales\"-method of ranking these products is not a simple ordering based on quantity sold.  If it was, we would write the ranking function as follows...\n",
    "\n",
    "$$JD_{rank}(p_i) = rank(x_{i, q_{30}})$$\n",
    "\n",
    "where \n",
    "- $rank(x_k) = k$ such that $x_1 \\geq x_2 \\geq \\ \\dots \\ \\geq x_K$ and \n",
    "- $x_{i, q_{30}}$ is the q30 value of $p_i$\n",
    "\n",
    "The pictures argue against this concept pretty clearly.  Here's one example:\n",
    "\n",
    "![example](images/monthly_item_rank_shifts_2.png)\n",
    "\n",
    "### Rethinking the ranking method\n",
    "\n",
    "In light of this, we can safely assume the rankings are created by a scoring function.  This is most probably given by\n",
    "\n",
    "$$score(p_i) = \\sum_{j=1}^N a_jx_{i,j} = a_1x_{i,1} + a_2x_{i,2} + a_3x_{i,3} + \\dots + a_Nx_{i,N}$$ \n",
    "\n",
    "where:\n",
    "\n",
    "- $x_{i,j} \\in \\mathbb{Z}$ are some known features about $p_i$ (for example-- allcomments, or the count of products with the same brand/category/fenlei), and\n",
    "- $a_j \\in \\mathbb{Q}$ are some unknown parameters, created by JD \n",
    "\n",
    "We then would like to search all $a_j$'s such that $rank(score(p_i)) = rank(x_{i,item\\_rank})$ for all products $p_i$.  So, the goals are two-fold:\n",
    "\n",
    "1. Find a solution to the rank problem, and \n",
    "2. If a solution exists, minimum values for $a_1,a_2,a_3,a_4$.  For simplicity, we're starting with only 4 $a_j$'s, but we'll be expanding to more later."
   ]
  },
  {
   "cell_type": "code",
   "execution_count": 1,
   "metadata": {
    "collapsed": false
   },
   "outputs": [],
   "source": [
    "from pulp import *"
   ]
  },
  {
   "cell_type": "code",
   "execution_count": 2,
   "metadata": {
    "collapsed": true
   },
   "outputs": [],
   "source": [
    "prob = LpProblem(\"solve for a_i, and minimize the a_i's\", LpMinimize)"
   ]
  },
  {
   "cell_type": "markdown",
   "metadata": {},
   "source": [
    "### 2D case\n",
    "\n",
    "Let's start with a simple case.  Say we have some $v_1, v_2$ as defined as follows:\n",
    "$$v_1 =\n",
    "\\left(\n",
    "\\begin{array}{c}\n",
    "4 \\\\\n",
    "8 \\\\\n",
    "2 \\\\\n",
    "1 \\\\\n",
    "\\end{array}\n",
    "\\right),\n",
    "\\ v_2 = \n",
    "\\left(\n",
    "\\begin{array}{c}\n",
    "2 \\\\\n",
    "1 \\\\\n",
    "0 \\\\\n",
    "0 \\\\\n",
    "\\end{array}\n",
    "\\right)$$\n",
    "\n",
    "Later, these $v_j$'s will be replaced with columns from our JD data.  For now, our goal is to see how this kind of problem is formalized for an LP solver, starting with the simpler 2-d case.  Take some linear combination $a_1v_1 + a_2v_2$ of these vectors such that the output is a vector $v_0$ given by\n",
    "\n",
    "$$a_1v_1 + a_2v_2 = v_0 = \n",
    "\\left(\n",
    "\\begin{array}{c}\n",
    "v_0^{(1)} \\\\\n",
    "v_0^{(2)} \\\\\n",
    "v_0^{(3)} \\\\\n",
    "v_0^{(4)} \\\\\n",
    "\\end{array}\n",
    "\\right)\n",
    "\\ where \\ v_0^{(1)} \\geq v_0^{(2)} \\geq v_0^{(3)} \\geq v_0^{(4)} \\geq 0$$\n",
    "\n",
    "In other words, what scalars $a_1,a_2$ can we use on $v_1,v_2$ in order to produce a vector $v_0$ which is ranked in descending order?"
   ]
  },
  {
   "cell_type": "code",
   "execution_count": null,
   "metadata": {
    "collapsed": true
   },
   "outputs": [],
   "source": [
    "import numpy as np\n",
    "v1, v2 = np.array([4.,8.,2.,1.]), np.array([2.,1.,0.,0.])"
   ]
  },
  {
   "cell_type": "markdown",
   "metadata": {},
   "source": [
    "### Employing LP\n",
    "\n",
    "To make this a LP problem, we'll need:\n",
    "- an objective function of the form $cx$\n",
    "- a set of constraints $Ax \\geq b$\n",
    "\n",
    "We could live with any set of $a_1, a_2$ that solves this, but since we need a tangible objective function, let's search for the smallest combination of $a_1, a_2$: $$f(a_1,a_2) = a_1 + a_2$$\n",
    "\n",
    "Additionally, we'll want a set of $a_1, a_2$ that returns a ranked output vector $v_0$, so our constraints are:\n",
    "\n",
    "$$ a_1v_1 + a_2v_2 - v_0 = 0 \\\\ v_0^{(1)} - v_0^{(2)} \\geq 0 \\\\ v_0^{(2)} - v_0^{(3)} \\geq 0 \\\\ v_0^{(3)} - v_0^{(4)} \\geq 0$$"
   ]
  },
  {
   "cell_type": "code",
   "execution_count": 3,
   "metadata": {
    "collapsed": true
   },
   "outputs": [],
   "source": [
    "a1 = LpVariable(\"a_1\",0,None)\n",
    "a2 = LpVariable(\"a_2\",0,None)\n",
    "v01 = LpVariable(\"v_01\",1, None,LpInteger)\n",
    "v02 = LpVariable(\"v_02\",1, None,LpInteger)\n",
    "v03 = LpVariable(\"v_03\",1, None,LpInteger)\n",
    "v04 = LpVariable(\"v_04\",1, None,LpInteger)\n",
    "\n",
    "prob += a1 + a2, \"Find values for x1,x2 which also are the smallest possible values\"\n",
    "prob += v1[0]*a1 + v2[0]*a2 == v01, \"first element\"\n",
    "prob += v1[1]*a1 + v2[1]*a2 == v02, \"second element\"\n",
    "prob += v1[2]*a1 + v2[2]*a2 == v03, \"third element\"\n",
    "prob += v1[3]*a1 + v2[3]*a2 == v04, \"fourth element\"\n",
    "prob += v01 - v02 >= 0, \"v01 > v02\"\n",
    "prob += v02 - v03 >= 0, \"v02 > v03\"\n",
    "prob += v03 - v04 >= 0, \"v03 > v04\""
   ]
  },
  {
   "cell_type": "code",
   "execution_count": 5,
   "metadata": {
    "collapsed": false
   },
   "outputs": [
    {
     "data": {
      "text/plain": [
       "1"
      ]
     },
     "execution_count": 5,
     "metadata": {},
     "output_type": "execute_result"
    }
   ],
   "source": [
    "prob.solve()"
   ]
  },
  {
   "cell_type": "code",
   "execution_count": 6,
   "metadata": {
    "collapsed": false
   },
   "outputs": [
    {
     "name": "stdout",
     "output_type": "stream",
     "text": [
      "a_1 \t= 1.0\n",
      "a_2 \t= 4.0\n",
      "v_01 \t= 12.0\n",
      "v_02 \t= 12.0\n",
      "v_03 \t= 2.0\n",
      "v_04 \t= 1.0\n"
     ]
    }
   ],
   "source": [
    "for v in prob.variables():\n",
    "    print v.name, \"\\t=\", v.varValue"
   ]
  },
  {
   "cell_type": "markdown",
   "metadata": {},
   "source": [
    "Validate results by plugging values back into equation and evaluating the function"
   ]
  },
  {
   "cell_type": "code",
   "execution_count": 7,
   "metadata": {
    "collapsed": false
   },
   "outputs": [
    {
     "name": "stdout",
     "output_type": "stream",
     "text": [
      "Function output at solved ai's: [ 12.  12.   2.   1.]\n"
     ]
    }
   ],
   "source": [
    "print \"Function output at solved ai's:\",prob.variablesDict()[\"a_1\"].varValue*v1+prob.variablesDict()[\"a_2\"].varValue*v2"
   ]
  },
  {
   "cell_type": "markdown",
   "metadata": {},
   "source": [
    "### 4D case\n",
    "\n",
    "Now we'll try adding two vectors $v_3,v_4$ to the mix, to simulate the problem we are trying to solve.\n",
    "\n",
    "$$v_1 =\n",
    "\\left(\n",
    "\\begin{array}{c}\n",
    "4 \\\\\n",
    "8 \\\\\n",
    "2 \\\\\n",
    "1 \\\\\n",
    "\\end{array}\n",
    "\\right),\n",
    "\\ v_2 = \n",
    "\\left(\n",
    "\\begin{array}{c}\n",
    "2 \\\\\n",
    "1 \\\\\n",
    "0 \\\\\n",
    "0 \\\\\n",
    "\\end{array}\n",
    "\\right),\n",
    "\\ v_3 = \n",
    "\\left(\n",
    "\\begin{array}{c}\n",
    "1 \\\\\n",
    "2 \\\\\n",
    "1 \\\\\n",
    "2 \\\\\n",
    "\\end{array}\n",
    "\\right), \n",
    "\\ v_4 = \n",
    "\\left(\n",
    "\\begin{array}{c}\n",
    "5 \\\\\n",
    "1 \\\\\n",
    "1 \\\\\n",
    "2 \\\\\n",
    "\\end{array}\n",
    "\\right)\n",
    "$$"
   ]
  },
  {
   "cell_type": "code",
   "execution_count": 14,
   "metadata": {
    "collapsed": true
   },
   "outputs": [],
   "source": [
    "v1, v2 = np.array([4,8,2,1]), np.array([2,1,0,0])\n",
    "v3, v4 = np.array([1,2,1,7]), np.array([5,1,1,2])"
   ]
  },
  {
   "cell_type": "code",
   "execution_count": 15,
   "metadata": {
    "collapsed": false
   },
   "outputs": [
    {
     "data": {
      "text/plain": [
       "1"
      ]
     },
     "execution_count": 15,
     "metadata": {},
     "output_type": "execute_result"
    }
   ],
   "source": [
    "a1 = LpVariable(\"a_1\",1,None,LpInteger)\n",
    "a2 = LpVariable(\"a_2\",1,None,LpInteger)\n",
    "a3 = LpVariable(\"a_3\",1,None,LpInteger)\n",
    "a4 = LpVariable(\"a_4\",1,None,LpInteger)\n",
    "v01 = LpVariable(\"v_01\",1, None,LpInteger)\n",
    "v02 = LpVariable(\"v_02\",1, None,LpInteger)\n",
    "v03 = LpVariable(\"v_03\",1, None,LpInteger)\n",
    "v04 = LpVariable(\"v_04\",1, None,LpInteger)\n",
    "\n",
    "prob4d = LpProblem(\"solve for a_i, and minimize the a_i's -- 4D case\", LpMinimize)\n",
    "prob4d += a1 + a2 + a3 + a4\n",
    "prob4d += v1[0]*a1 + v2[0]*a2 + v3[0]*a3 + v4[0]*a4 == v01, \"first element\"\n",
    "prob4d += v1[1]*a1 + v2[1]*a2 + v3[1]*a3 + v4[1]*a4 == v02, \"second element\"\n",
    "prob4d += v1[2]*a1 + v2[2]*a2 + v3[2]*a3 + v4[2]*a4 == v03, \"third element\"\n",
    "prob4d += v1[3]*a1 + v2[3]*a2 + v3[3]*a3 + v4[3]*a4 == v04, \"fourth element\"\n",
    "prob4d += v01 - v02 >= 0, \"v01 > v02\"\n",
    "prob4d += v02 - v03 >= 0, \"v02 > v03\"\n",
    "prob4d += v03 - v04 >= 0, \"v03 > v04\"\n",
    "prob4d.solve()"
   ]
  },
  {
   "cell_type": "code",
   "execution_count": 16,
   "metadata": {
    "collapsed": false
   },
   "outputs": [
    {
     "name": "stdout",
     "output_type": "stream",
     "text": [
      "a_1 \t= 7.0\n",
      "a_2 \t= 25.0\n",
      "a_3 \t= 1.0\n",
      "a_4 \t= 1.0\n",
      "v_01 \t= 84.0\n",
      "v_02 \t= 84.0\n",
      "v_03 \t= 16.0\n",
      "v_04 \t= 16.0\n"
     ]
    }
   ],
   "source": [
    "for v in prob4d.variables():\n",
    "    print v.name, \"\\t=\", v.varValue"
   ]
  },
  {
   "cell_type": "markdown",
   "metadata": {},
   "source": [
    "Now, change the value of $v_2^{(4)}$=5, so now the vectors are...\n",
    "\n",
    "\n",
    "$$v_1 =\n",
    "\\left(\n",
    "\\begin{array}{c}\n",
    "4 \\\\\n",
    "8 \\\\\n",
    "2 \\\\\n",
    "1 \\\\\n",
    "\\end{array}\n",
    "\\right),\n",
    "\\ v_2 = \n",
    "\\left(\n",
    "\\begin{array}{c}\n",
    "2 \\\\\n",
    "1 \\\\\n",
    "0 \\\\\n",
    "\\color{orangered} 5 \\\\\n",
    "\\end{array}\n",
    "\\right),\n",
    "\\ v_3 = \n",
    "\\left(\n",
    "\\begin{array}{c}\n",
    "1 \\\\\n",
    "2 \\\\\n",
    "1 \\\\\n",
    "2 \\\\\n",
    "\\end{array}\n",
    "\\right), \n",
    "\\ v_4 = \n",
    "\\left(\n",
    "\\begin{array}{c}\n",
    "5 \\\\\n",
    "1 \\\\\n",
    "1 \\\\\n",
    "2 \\\\\n",
    "\\end{array}\n",
    "\\right)\n",
    "$$"
   ]
  },
  {
   "cell_type": "code",
   "execution_count": 18,
   "metadata": {
    "collapsed": true
   },
   "outputs": [],
   "source": [
    "v2 = np.array([2,1,0,5])"
   ]
  },
  {
   "cell_type": "code",
   "execution_count": 19,
   "metadata": {
    "collapsed": false
   },
   "outputs": [
    {
     "data": {
      "text/plain": [
       "-1"
      ]
     },
     "execution_count": 19,
     "metadata": {},
     "output_type": "execute_result"
    }
   ],
   "source": [
    "prob4d2 = LpProblem(\"solve for a_i, and minimize the a_i's -- 4D case\", LpMinimize)\n",
    "prob4d2 += a1 + a2 + a3 + a4\n",
    "prob4d2 += v1[0]*a1 + v2[0]*a2 + v3[0]*a3 + v4[0]*a4 == v01, \"first element\"\n",
    "prob4d2 += v1[1]*a1 + v2[1]*a2 + v3[1]*a3 + v4[1]*a4 == v02, \"second element\"\n",
    "prob4d2 += v1[2]*a1 + v2[2]*a2 + v3[2]*a3 + v4[2]*a4 == v03, \"third element\"\n",
    "prob4d2 += v1[3]*a1 + v2[3]*a2 + v3[3]*a3 + v4[3]*a4 == v04, \"fourth element\"\n",
    "prob4d2 += v01 - v02 >= 0, \"v01 > v02\"\n",
    "prob4d2 += v02 - v03 >= 0, \"v02 > v03\"\n",
    "prob4d2 += v03 - v04 >= 0, \"v03 > v04\"\n",
    "prob4d2.solve()"
   ]
  },
  {
   "cell_type": "code",
   "execution_count": 22,
   "metadata": {
    "collapsed": false
   },
   "outputs": [
    {
     "data": {
      "text/plain": [
       "'Infeasible'"
      ]
     },
     "execution_count": 22,
     "metadata": {},
     "output_type": "execute_result"
    }
   ],
   "source": [
    "LpStatus[-1]"
   ]
  },
  {
   "cell_type": "markdown",
   "metadata": {
    "collapsed": true
   },
   "source": [
    "## Moving to Compass data\n",
    "\n",
    "Notice that not every set of 4 vectors will have a solution.  Indeed, as we progress into Compass data, solutions will likely be very difficult to find for large $v_i$'s...\n",
    "\n",
    "![too much data](images/monthly_item_rank_shifts_4.png)  \n",
    "\n",
    "In the same vein, we won't want $v_i$'s which are too small....\n",
    "\n",
    "![not enough data](images/monthly_item_rank_shifts_5.png)\n",
    "\n",
    "...because we'll get too many solutions, most of which won't add a lot of insight.\n",
    "\n",
    "We'll be hoping for an amount of data that describes everything accurately, but also isn't so dense that it will be impossible to solve...\n",
    "\n",
    "![just right](images/monthly_item_rank_shifts_1.png)\n",
    "\n",
    "This is a case where the cleanliness and completeness of the data is vitally important.  Any rows/columns with missing values or unclean data will need to be removed as a pre-processing step."
   ]
  },
  {
   "cell_type": "markdown",
   "metadata": {
    "collapsed": true
   },
   "source": [
    "## Formalizing the problem in Compass terms\n",
    "\n",
    "We will formalize the 3 __problem-types__ to consider for compass data: product-level, page-level, and pageset-level. These will be explained in more detail below, but it's better to get a picture of these problem-types first, noticing that each one allows for a more relaxed ranking criterion than the last:\n",
    "\n",
    "![just right](images/sample_solutions.png)\n",
    "\n",
    "M is the length of the solution vector $v_0$ discovered for some problem-type.  Alternatively, it's the number of products for which we were able to find a scoring function which ranked them according to the problem-type.  It's important to remember that when we are solving for 70+ products, and 40+ attributes ($a_i$'s), it is likely that a solution will not be found until we subsample that set of products to around 20-40 products.  The subsampling process will almost always contain different permutations of products $p_i$, so M will vary over some probability distribution.  Because page-level is more relaxed than product-level, we'll expect larger values of M for page-level than product-level.  Similarly, M for pageset-level should be larger than both.\n",
    "\n",
    "\n",
    "### Product-level\n",
    "\n",
    "This will be a matter of replacing the $v_j$'s from above with columns from the compass database ($x_j$).  Remember, the scoring function we are interested is given by $$score(p_i) = \\sum_{j=1}^N a_jx_{i,j}$$\n",
    "\n",
    "where $N$ is the total number of columns.  It's given that \n",
    "\n",
    "$$JD_{rank}(p_i) = rank(x_{i,item\\_rank})$$\n",
    "\n",
    "So we are looking for $a_j$ such that $$rank(x_{i,item\\_rank}) = rank(score(p_i)) = rank(\\sum_{j=1}^N a_jx_{i,j}) \\ \\text{for all} \\  i \\in \\{ 1, \\dots, M\\}$$\n",
    "\n",
    "So in the context of LP, this can be written as follows:\n",
    "\n",
    "$$\\text{Objective function: } \\sum_{j=1}^N a_j \\\\ \\text{Constraints:} \\sum_j a_jx_j - v_0 = 0 \\text{ where } x_j \\text{ is the } j^{th} \\text{column} \\\\ v_0^{(1)} \\geq v_0^{(2)} \\geq \\dots \\geq v_0^{(M)}$$"
   ]
  },
  {
   "cell_type": "markdown",
   "metadata": {},
   "source": [
    "This problem is created by the rankLP.py module's _rankByProduct()_ method.  All one needs to do is give the method an input dataframe which is sorted by item_rank."
   ]
  },
  {
   "cell_type": "code",
   "execution_count": 3,
   "metadata": {
    "collapsed": false
   },
   "outputs": [
    {
     "name": "stdout",
     "output_type": "stream",
     "text": [
      "a__DOVE \t= 2.0927435\n",
      "a__HAZELINE \t= 10.0\n",
      "a__agg07 \t= 8.7671777\n",
      "a__agg13 \t= 6.6528283\n",
      "a__c45 \t= 0.55728258\n",
      "a__currentprice \t= 4.5087417\n",
      "a__featagg043 \t= 3.3110228\n",
      "a__featagg073 \t= 10.0\n",
      "a__hasAttr00 \t= 10.0\n",
      "a__is_in_stock \t= 10.0\n",
      "v_0_0004 \t= 99.310178\n",
      "v_0_0039 \t= 40.839112\n",
      "v_0_0041 \t= 39.974293\n",
      "v_0_0048 \t= 33.144852\n",
      "v_0_0056 \t= 33.144852\n",
      "v_0_0075 \t= 33.144852\n",
      "v_0_0083 \t= 27.742874\n",
      "v_0_0085 \t= 27.259292\n",
      "v_0_0090 \t= 26.167797\n",
      "v_0_0106 \t= 25.159586\n",
      "v_0_0127 \t= 25.159586\n",
      "v_0_0129 \t= 25.159586\n",
      "v_0_0158 \t= 25.159586\n",
      "v_0_0189 \t= 22.062178\n",
      "v_0_0410 \t= 21.267164\n",
      "v_0_0414 \t= 21.267164\n",
      "v_0_0426 \t= 21.267164\n",
      "v_0_0457 \t= 21.267164\n",
      "v_0_0461 \t= 19.551999\n",
      "v_0_0730 \t= 19.551999\n",
      "v_0_0735 \t= 19.551999\n",
      "v_0_1322 \t= 19.551999\n"
     ]
    }
   ],
   "source": [
    "import rankLP as rlp\n",
    "from examples.df929 import df\n",
    "\n",
    "probCompassProd = rlp.forceSolution(df, by=\"product\")\n",
    "rlp.viewAs(probCompassProd,.2)\n",
    "rlp.viewVs(probCompassProd)"
   ]
  },
  {
   "cell_type": "markdown",
   "metadata": {},
   "source": [
    "### page-level\n",
    "\n",
    "Assume we are only interested in whether an item is ranked correctly according to page -- meaning that the exact order of the score doesn't matter, as long as products do not step over page boundaries.  Let's call the set of pages $\\{ \\beta_1, \\dots, \\beta_P \\}$.  In this case, we'll have to create another feature $x_{page}$ which is created by the following function:\n",
    "\n",
    "$$pageranker(x_{i,item\\_rank}) = \n",
    "\\left\\{\n",
    "\\begin{array}{cc}\n",
    "      \\beta_1 & 0 \\leq x_{i,item\\_rank} \\leq 60 \\\\\n",
    "      \\beta_2 & 60 \\leq x_{i,item\\_rank} \\leq 120 \\\\\n",
    "      \\beta_3 & 120 \\leq x_{i,item\\_rank} \\leq 180 \\\\\n",
    "      \\dots & \\dots\\\\\n",
    "\\end{array} \n",
    "\\right\\}$$\n",
    "\n",
    "After this is done and ranked, we'll be able to organize products $p_i$ thusly:\n",
    "\n",
    "$$\n",
    "\\begin{array}{rr}\n",
    "\\{ p_1, \\dots, p_{b_1} \\} = & \\beta_1 \\\\ \n",
    "\\{ p_{({b_1}+1)}, \\dots, p_{b_2} \\} = & \\beta_2 \\\\ \n",
    "\\{ p_{({b_2}+1)}, \\dots, p_{b_3} \\} = & \\beta_3 \\\\ \n",
    "\\dots \\\\  \n",
    "\\{ p_{(b_{P-1}+1)}, \\dots, p_{b_P} \\} = & \\beta_P \\\\\n",
    "\\end{array}$$\n",
    "\n",
    "Putting that into an LP context:\n",
    "\n",
    "$$\n",
    "\\text{Objective function:} \\sum_j a_j \\\\\n",
    "\\text{Constraints:} \\sum_j a_jx_j = v_0 \\\\\n",
    "\\ \\beta_1 \\geq \\beta_2 \\geq \\dots \\geq \\beta_P \\implies \\{ v_0^{(1)}, \\dots, v_0^{(b_1)} \\} \\geq \\{ v_0^{(b_1+1)}, \\dots, v_0^{(b_2)} \\} \\geq \\dots \\geq \\{ v_0^{(b_{P-1}+1)}, \\dots, v_0^{(b_P)} \\} \n",
    "$$\n",
    "\n"
   ]
  },
  {
   "cell_type": "markdown",
   "metadata": {},
   "source": [
    "This problem is created by the rankLP.py module's _rankByPage()_ method."
   ]
  },
  {
   "cell_type": "markdown",
   "metadata": {},
   "source": [
    "### page-set-level\n",
    "\n",
    "We could also be even more general, and allow for a product to appear on a set of pages.  For example, a good starting point would be:\n",
    "\n",
    "- $\\psi_1 = \\{ \\beta_1 \\}$\n",
    "- $\\psi_2 = \\{ \\beta_2, \\beta_3 \\}$\n",
    "- $\\psi_3 = \\{ \\beta_4, \\beta_5, \\beta_6, \\beta_7 \\}$\n",
    "- $\\psi_4 = \\{ \\beta_8 , \\beta_9, \\dots, \\beta_P \\}$\n",
    "\n",
    "...which is not a hard thing to translate into another LP context:\n",
    "\n",
    "$$\n",
    "\\text{Objective function:} \\sum_j a_j \\\\\n",
    "\\text{Constraints:} \\sum_j a_jx_j = v_0  \\\\\n",
    "\\ \\psi_1 \\geq \\psi_2 \\geq \\psi_3 \\geq \\psi_4 \\implies \\{ v_0^{(1)}, \\dots, v_0^{(b_1)} \\} \\geq \\{ v_0^{(b_1+1)}, \\dots, v_0^{(b_3)} \\} \\geq \\{ v_0^{(b_3+1)}, \\dots, v_0^{(b_7)} \\geq \\{ v_0^{(b_7+1)}, \\dots, v_0^{(b_P)} \\} \n",
    "$$"
   ]
  },
  {
   "cell_type": "markdown",
   "metadata": {},
   "source": [
    "This problem is created by the rankLP.py module's _rankByPageset()_ method."
   ]
  },
  {
   "cell_type": "markdown",
   "metadata": {
    "collapsed": true
   },
   "source": [
    "### rankLP.py module -- LP methods\n",
    "\n",
    "#### rankByProduct(), rankByPage(), rankByPageset()\n",
    "These simply create the problem, given an input dataframe.  They do not solve the problem.  The input dataframe must be sorted by and indexed by the item_rank.  Other notes:\n",
    "- rankByPage()/rankByPageset()-- the page number is required.  This can be generated by rankLP's addPage() method.\n",
    "- rankByPageset()-- custom pagesets can be optionally defined at input.  Defaults to the one defined above.  \n",
    "\n",
    "Once the problem is created, it is not hard to solve -- simply invoke pulp's solve() method.  Whether there is a solution is not certain.  This contingency is handled by the forceSolution() method.\n",
    "\n",
    "#### forceSolution()\n",
    "forceSolution() tries to find a solution, and if it can't, continually samples the input dataframe at random, reducing the sample size by 1 on each iteration, until a solution can be found, at which point it stops and returns the details."
   ]
  },
  {
   "cell_type": "code",
   "execution_count": null,
   "metadata": {
    "collapsed": true
   },
   "outputs": [],
   "source": []
  }
 ],
 "metadata": {
  "kernelspec": {
   "display_name": "Python 2",
   "language": "python",
   "name": "python2"
  },
  "language_info": {
   "codemirror_mode": {
    "name": "ipython",
    "version": 2
   },
   "file_extension": ".py",
   "mimetype": "text/x-python",
   "name": "python",
   "nbconvert_exporter": "python",
   "pygments_lexer": "ipython2",
   "version": "2.7.9"
  }
 },
 "nbformat": 4,
 "nbformat_minor": 0
}
