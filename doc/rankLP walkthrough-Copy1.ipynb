{
 "cells": [
  {
   "cell_type": "markdown",
   "metadata": {},
   "source": [
    "## Walkthrough of the WZS project\n",
    "\n",
    "This notebook will explain how to use all modules contained in this project for analysis, using the ipython notebook to allow the user to run code and test different methods for creating new LP problems.  For a general overview of the project, or for information on running automated scripts, see README.md \n",
    "\n",
    "The modules this document will cover are:\n",
    "- rankLP.py\n",
    "- emailnotice.py\n",
    "- examples.dfxxx"
   ]
  },
  {
   "cell_type": "code",
   "execution_count": 1,
   "metadata": {
    "collapsed": false
   },
   "outputs": [
    {
     "name": "stdout",
     "output_type": "stream",
     "text": [
      "Populating the interactive namespace from numpy and matplotlib\n"
     ]
    }
   ],
   "source": [
    "%pylab inline\n",
    "import pandas as pd\n",
    "import re\n",
    "from pulp import GLPK, PULP_CBC_CMD\n",
    "import time\n",
    "\n",
    "scriptStartTime = time.time()"
   ]
  },
  {
   "cell_type": "markdown",
   "metadata": {},
   "source": [
    "### importing rankLP module"
   ]
  },
  {
   "cell_type": "code",
   "execution_count": 2,
   "metadata": {
    "collapsed": true
   },
   "outputs": [],
   "source": [
    "import rankLP as rlp"
   ]
  },
  {
   "cell_type": "markdown",
   "metadata": {},
   "source": [
    "### examples.dfxxx\n",
    "\n",
    "The following line of code imports an already pre-processed pandas dataframe (df), corresponding to the kind of data we need for solving the LP problem we will be creating."
   ]
  },
  {
   "cell_type": "code",
   "execution_count": 3,
   "metadata": {
    "collapsed": false,
    "scrolled": true
   },
   "outputs": [
    {
     "name": "stdout",
     "output_type": "stream",
     "text": [
      "category [30010303] fenlei [沐浴乳 露]\n",
      "Total rows (M) before preprocessing: 147\n"
     ]
    }
   ],
   "source": [
    "from examples.df929 import df"
   ]
  },
  {
   "cell_type": "markdown",
   "metadata": {},
   "source": [
    "## Customize analysis\n",
    "\n",
    "Here are some options to customize an analysis:\n",
    "\n",
    "- preprocessing the df further"
   ]
  },
  {
   "cell_type": "code",
   "execution_count": 4,
   "metadata": {
    "collapsed": true
   },
   "outputs": [],
   "source": [
    "df = rlp.normalizeColumns(df)   ##converts all integers to a range of numbers between (0,1)\n",
    "df = rlp.flipRankCols(df)       ##makes high ranks (like 1524) into low numbers, low ranks (like 7) into high numbers"
   ]
  },
  {
   "cell_type": "markdown",
   "metadata": {},
   "source": [
    "- change the lower/upper bounds, pass as arguments to the forceSolution function"
   ]
  },
  {
   "cell_type": "code",
   "execution_count": 5,
   "metadata": {
    "collapsed": true
   },
   "outputs": [],
   "source": [
    "#lboundA =                       ##default .01      ##copy this: lbound_a=lboundA\n",
    "uboundA = 10                      ##default 10      ##copy this: ubound_a=uboundA\n",
    "lboundV = 1                      ##default .01      ##copy this: lbound_v=lboundV\n",
    "uboundV = 100                      ##default 100      ##copy this: ubound_v=uboundV"
   ]
  },
  {
   "cell_type": "markdown",
   "metadata": {},
   "source": [
    "### Start solving LP problems\n",
    "\n",
    "specify solving method (add more here for whichever methods are installed)"
   ]
  },
  {
   "cell_type": "code",
   "execution_count": 6,
   "metadata": {
    "collapsed": true
   },
   "outputs": [],
   "source": [
    "solver=PULP_CBC_CMD()                      #default, comes with pulp\n",
    "#solver=GLPK()"
   ]
  },
  {
   "cell_type": "markdown",
   "metadata": {},
   "source": [
    "First, solve by pages and pageset.  We'll do this first since the examples.df929 dataframe contains a column \"page\", which we'll need to drop when solving by product.  Note that this column is not used in solving -- it's only used to understand how to define the conditions in the LP problem.  \n",
    "\n",
    "The forceSolution() function will keep sampling from df until it finds a solution, starting with the entire product set (M products), then sampling (M-1) products, then sampling (M-2) products, and so forth until a solution is found.  These solutions will be reported on in images/Mdistributions.png"
   ]
  },
  {
   "cell_type": "code",
   "execution_count": 7,
   "metadata": {
    "collapsed": false
   },
   "outputs": [],
   "source": [
    "prob_page = rlp.forceSolution(df, by=\"page\", solver=solver, ubound_a=uboundA, lbound_v=lboundV, ubound_v=uboundV)\n",
    "\n",
    "##Define a custom page set here\n",
    "pageset = {1:range(1,2), 2:range(2,4), 3:range(4,8)}\n",
    "prob_pageset = rlp.forceSolution(df, by=\"pageset\", solver=solver, c=pageset, ubound_a=uboundA, lbound_v=lboundV, ubound_v=uboundV)\n",
    "##\n",
    "##  Note: only define the first pagesets.  The tail will be captured by the rankByPageset() function"
   ]
  },
  {
   "cell_type": "markdown",
   "metadata": {},
   "source": [
    "Now, solve by product, forcing product scores to monotonically decrease."
   ]
  },
  {
   "cell_type": "code",
   "execution_count": 8,
   "metadata": {
    "collapsed": false
   },
   "outputs": [],
   "source": [
    "###remove page feature\n",
    "df = df.drop(\"page\", axis=1)\n",
    "\n",
    "prob_prod = rlp.forceSolution(df, by=\"product\", solver=solver, ubound_a=uboundA, lbound_v=lboundV, ubound_v=uboundV)"
   ]
  },
  {
   "cell_type": "markdown",
   "metadata": {},
   "source": [
    "### Visualize the results"
   ]
  },
  {
   "cell_type": "code",
   "execution_count": 10,
   "metadata": {
    "collapsed": false
   },
   "outputs": [
    {
     "data": {
      "image/png": "[encoded data removed]",
      "text/plain": [
       "<matplotlib.figure.Figure at 0x7f7903450d90>"
      ]
     },
     "metadata": {},
     "output_type": "display_data"
    }
   ],
   "source": [
    "rlp.plotSolutions(prob_prod, prob_page, prob_pageset, pageset, lboundV)"
   ]
  },
  {
   "cell_type": "code",
   "execution_count": 20,
   "metadata": {
    "collapsed": false
   },
   "outputs": [
    {
     "data": {
      "text/plain": [
       "Index([                 u'q30',          u'allcomments',\n",
       "                      u'rank7',               u'rank14',\n",
       "                     u'rank30',               u'rank60',\n",
       "               u'currentprice',                  u'c26',\n",
       "                        u'c28',                  u'c30',\n",
       "                        u'c34',                  u'c45',\n",
       "                      u'agg02',                u'agg04',\n",
       "                      u'agg07',          u'is_in_stock',\n",
       "       u'positive_comment_num',   u'medium_comment_num',\n",
       "       u'negative_comment_num',                u'agg17',\n",
       "                      u'agg13',                u'agg14',\n",
       "                      u'agg15',                u'agg16',\n",
       "                      u'agg09',                u'agg10',\n",
       "                      u'agg11',                u'agg12',\n",
       "                  u'featagg01',            u'featagg02',\n",
       "                  u'featagg03',            u'featagg04',\n",
       "                  u'featagg05',            u'featagg07',\n",
       "                  u'featagg08',           u'featagg013',\n",
       "                 u'featagg033',           u'featagg043',\n",
       "                 u'featagg053',           u'featagg073',\n",
       "                       u'DOVE',             u'HAZELINE',\n",
       "                   u'LIFEBUOY',                  u'LUX',\n",
       "                       u'LYNX',            u'hasAttr00',\n",
       "                  u'hasAttr01',            u'hasAttr02',\n",
       "                  u'hasAttr03',            u'hasAttr04',\n",
       "                  u'hasAttr05',            u'hasAttr06',\n",
       "                     u'dummy1',               u'dummy2'],\n",
       "      dtype='object')"
      ]
     },
     "execution_count": 20,
     "metadata": {},
     "output_type": "execute_result"
    }
   ],
   "source": [
    "df.columns"
   ]
  },
  {
   "cell_type": "code",
   "execution_count": 18,
   "metadata": {
    "collapsed": false
   },
   "outputs": [
    {
     "name": "stdout",
     "output_type": "stream",
     "text": [
      " a__DOVE = 0.093137814\n",
      "a__HAZELINE = 0.01\n",
      "a__LIFEBUOY = 0.01\n",
      "a__LUX = 0.01\n",
      "a__LYNX = 0.01\n",
      "a__agg02 = 0.32782808\n",
      "a__agg04 = 0.23070912\n",
      "a__agg07 = 10.0\n",
      "a__agg09 = 0.01\n",
      "a__agg10 = 0.01\n",
      "a__agg11 = 0.01\n",
      "a__agg12 = 0.01\n",
      "a__agg13 = 0.46859497\n",
      "a__agg14 = 0.01\n",
      "a__agg15 = 0.01\n",
      "a__agg16 = 0.01\n",
      "a__agg17 = 0.01\n",
      "a__allcomments = 0.01\n",
      "a__c26 = 0.01\n",
      "a__c28 = 3.7731546\n",
      "a__c30 = 0.01\n",
      "a__c34 = 0.01\n",
      "a__c45 = 0.01\n",
      "a__currentprice = 4.1624982\n",
      "a__dummy1 = 0.01\n",
      "a__dummy2 = 0.7922281\n",
      "a__featagg01 = 2.3854288\n",
      "a__featagg013 = 0.97854768\n",
      "a__featagg02 = 10.0\n",
      "a__featagg03 = 0.51794972\n",
      "a__featagg033 = 0.01\n",
      "a__featagg04 = 0.01\n",
      "a__featagg043 = 0.01\n",
      "a__featagg05 = 0.01\n",
      "a__featagg053 = 0.01\n",
      "a__featagg07 = 0.01\n",
      "a__featagg073 = 0.81200148\n",
      "a__featagg08 = 10.0\n",
      "a__hasAttr00 = 10.0\n",
      "a__hasAttr01 = 4.0781308\n",
      "a__hasAttr02 = 0.01\n",
      "a__hasAttr03 = 0.01\n",
      "a__hasAttr04 = 7.5453661\n",
      "a__hasAttr05 = 6.8833741\n",
      "a__hasAttr06 = 10.0\n",
      "a__is_in_stock = 9.8625245\n",
      "a__medium_comment_num = 0.82278073\n",
      "a__negative_comment_num = 0.40899995\n",
      "a__positive_comment_num = 0.01\n",
      "a__q30 = 3.5466096\n",
      "a__rank14 = 1.6147065\n",
      "a__rank30 = 0.62398001\n",
      "a__rank60 = 5.5427505\n",
      "a__rank7 = 7.3528613\n",
      "b__001 = 1.1615295\n",
      "b__002 = 1.1382412\n",
      "b__003 = 1.1123245\n",
      "b__004 = 1.0858289\n",
      "b__005 = 1.0652009\n",
      "b__007 = 1.0561275\n",
      "b__008 = 1.0532403\n",
      "b__009 = 1.0298847\n",
      "b__011 = 1.0\n",
      "b__012 = 1.0\n",
      "b__013 = 1.0\n",
      "v_0_0004 = 1.1827144\n",
      "v_0_0007 = 1.1615295\n",
      "v_0_0009 = 1.2090899\n",
      "v_0_0027 = 1.2409223\n",
      "v_0_0039 = 1.1615295\n",
      "v_0_0041 = 1.2051512\n",
      "v_0_0054 = 1.1615295\n",
      "v_0_0066 = 1.1615295\n",
      "v_0_0075 = 1.1615295\n",
      "v_0_0083 = 1.1382412\n",
      "v_0_0088 = 1.1540105\n",
      "v_0_0129 = 1.1123245\n",
      "v_0_0131 = 1.1382412\n",
      "v_0_0139 = 1.1382412\n",
      "v_0_0150 = 1.1123245\n",
      "v_0_0158 = 1.1382412\n",
      "v_0_0186 = 1.1123245\n",
      "v_0_0189 = 1.1123245\n",
      "v_0_0209 = 1.0858289\n",
      "v_0_0252 = 1.0652009\n",
      "v_0_0291 = 1.0858289\n",
      "v_0_0374 = 1.0582189\n",
      "v_0_0386 = 1.0561275\n",
      "v_0_0400 = 1.0561275\n",
      "v_0_0411 = 1.0652009\n",
      "v_0_0426 = 1.0561275\n",
      "v_0_0432 = 1.0532403\n",
      "v_0_0472 = 1.0561275\n",
      "v_0_0484 = 1.0532403\n",
      "v_0_0511 = 1.0532403\n",
      "v_0_0517 = 1.0531707\n",
      "v_0_0518 = 1.036441\n",
      "v_0_0521 = 1.0298847\n",
      "v_0_0605 = 1.0298847\n",
      "v_0_0673 = 1.0\n",
      "v_0_0730 = 1.0\n",
      "v_0_0735 = 1.0\n",
      "v_0_1010 = 1.0\n"
     ]
    }
   ],
   "source": [
    "for b in prob_page.variables():\n",
    "    print b,'=',b.varValue"
   ]
  },
  {
   "cell_type": "code",
   "execution_count": null,
   "metadata": {
    "collapsed": true
   },
   "outputs": [],
   "source": []
  },
  {
   "cell_type": "code",
   "execution_count": null,
   "metadata": {
    "collapsed": true
   },
   "outputs": [],
   "source": []
  },
  {
   "cell_type": "code",
   "execution_count": 10,
   "metadata": {
    "collapsed": false
   },
   "outputs": [
    {
     "name": "stdout",
     "output_type": "stream",
     "text": [
      "time to execute script: 50.8 seconds\n"
     ]
    }
   ],
   "source": [
    "print \"time to execute script: %.1f seconds\" % (time.time() - scriptStartTime)"
   ]
  },
  {
   "cell_type": "markdown",
   "metadata": {},
   "source": [
    "If doing ad-hoc analysis, visualize the values for $a_i$, $b_i$, $c_i$, or $v_i$ of a given problem-type"
   ]
  },
  {
   "cell_type": "code",
   "execution_count": 24,
   "metadata": {
    "collapsed": false
   },
   "outputs": [
    {
     "name": "stdout",
     "output_type": "stream",
     "text": [
      "a__DOVE \t= 0.01\n",
      "a__HAZELINE \t= 8.1363608\n",
      "a__LIFEBUOY \t= 6.460859\n",
      "a__LUX \t= 0.01\n",
      "a__LYNX \t= 10.0\n",
      "a__agg02 \t= 10.0\n",
      "a__agg04 \t= 0.01\n",
      "a__agg07 \t= 5.9959182\n",
      "a__agg09 \t= 2.1590767\n",
      "a__agg10 \t= 8.3602956\n",
      "a__agg11 \t= 10.0\n",
      "a__agg12 \t= 0.01\n",
      "a__agg13 \t= 0.01\n",
      "a__agg14 \t= 0.01\n",
      "a__agg15 \t= 0.01\n",
      "a__agg16 \t= 0.01\n",
      "a__agg17 \t= 0.01\n",
      "a__allcomments \t= 0.01\n",
      "a__c26 \t= 0.14306731\n",
      "a__c28 \t= 0.01\n",
      "a__c30 \t= 0.01\n",
      "a__c34 \t= 0.086273189\n",
      "a__c45 \t= 0.01\n",
      "a__currentprice \t= 0.17700276\n",
      "a__featagg01 \t= 0.012043681\n",
      "a__featagg013 \t= 0.01\n",
      "a__featagg02 \t= 10.0\n",
      "a__featagg03 \t= 0.01\n",
      "a__featagg033 \t= 0.01\n",
      "a__featagg04 \t= 0.01\n",
      "a__featagg043 \t= 0.018421462\n",
      "a__featagg05 \t= 0.01\n",
      "a__featagg053 \t= 0.01\n",
      "a__featagg07 \t= 0.01\n",
      "a__featagg073 \t= 0.01\n",
      "a__featagg08 \t= 10.0\n",
      "a__hasAttr00 \t= 10.0\n",
      "a__hasAttr01 \t= 2.4850981\n",
      "a__hasAttr02 \t= 0.01\n",
      "a__hasAttr03 \t= 10.0\n",
      "a__hasAttr04 \t= 9.8468802\n",
      "a__hasAttr05 \t= 5.0428064\n",
      "a__hasAttr06 \t= 9.9934668\n",
      "a__is_in_stock \t= 6.0165386\n",
      "a__medium_comment_num \t= 0.01\n",
      "a__negative_comment_num \t= 0.01\n",
      "a__positive_comment_num \t= 0.053002045\n",
      "a__q30 \t= 0.27746598\n",
      "a__rank14 \t= 0.01\n",
      "a__rank30 \t= 0.01\n",
      "a__rank60 \t= 0.049131209\n",
      "a__rank7 \t= 0.50840751\n",
      "v_0_0007 \t= 1.0130392\n",
      "v_0_0009 \t= 1.0188605\n",
      "v_0_0031 \t= 1.0150804\n",
      "v_0_0041 \t= 1.0154532\n",
      "v_0_0048 \t= 1.0130392\n",
      "v_0_0060 \t= 1.0130392\n",
      "v_0_0066 \t= 1.0130392\n",
      "v_0_0083 \t= 1.0118871\n",
      "v_0_0084 \t= 1.0118871\n",
      "v_0_0085 \t= 1.0126441\n",
      "v_0_0090 \t= 1.0118871\n",
      "v_0_0106 \t= 1.0120433\n",
      "v_0_0127 \t= 1.0118871\n",
      "v_0_0129 \t= 1.0107396\n",
      "v_0_0139 \t= 1.0107396\n",
      "v_0_0150 \t= 1.0118871\n",
      "v_0_0186 \t= 1.0081519\n",
      "v_0_0189 \t= 1.0101918\n",
      "v_0_0196 \t= 1.0099632\n",
      "v_0_0197 \t= 1.0107396\n",
      "v_0_0221 \t= 1.0096059\n",
      "v_0_0231 \t= 1.0087918\n",
      "v_0_0252 \t= 1.0081519\n",
      "v_0_0263 \t= 1.0081519\n",
      "v_0_0315 \t= 1.0081519\n",
      "v_0_0374 \t= 1.0074195\n",
      "v_0_0410 \t= 1.0081519\n",
      "v_0_0411 \t= 1.0079806\n",
      "v_0_0414 \t= 1.0074195\n",
      "v_0_0416 \t= 1.0077084\n",
      "v_0_0426 \t= 1.0064771\n",
      "v_0_0432 \t= 1.0073264\n",
      "v_0_0457 \t= 1.0074195\n",
      "v_0_0461 \t= 1.0065112\n",
      "v_0_0507 \t= 1.0060663\n",
      "v_0_0511 \t= 1.0060574\n",
      "v_0_0517 \t= 1.0037224\n",
      "v_0_0518 \t= 1.004285\n",
      "v_0_0521 \t= 1.0062768\n",
      "v_0_0605 \t= 1.0037224\n",
      "v_0_0673 \t= 1.0028177\n",
      "v_0_0735 \t= 1.0028177\n",
      "v_0_1232 \t= 1.0\n",
      "v_0_1346 \t= 1.0\n"
     ]
    }
   ],
   "source": [
    "rlp.viewAs(prob_page)\n",
    "#rlp.viewBs(prob_prod)\n",
    "#rlp.viewCs(prob_prod)\n",
    "rlp.viewVs(prob_page)\n",
    "#rlp.viewAll(prob_prod)"
   ]
  },
  {
   "cell_type": "markdown",
   "metadata": {},
   "source": [
    "Optionally, you can pass the viewAs method a threshold to restrict those values which are _above_ the threshold."
   ]
  },
  {
   "cell_type": "code",
   "execution_count": 41,
   "metadata": {
    "collapsed": false
   },
   "outputs": [
    {
     "data": {
      "image/png": "[encoded data removed]",
      "text/plain": [
       "<matplotlib.figure.Figure at 0x7fb9ec6692d0>"
      ]
     },
     "metadata": {},
     "output_type": "display_data"
    }
   ],
   "source": [
    "msg = \"LP solution script finished!\\n\\n Counts of solutions for each product type given in bins of [0,2,4,...,68,70]\\n\"\n",
    "for probtype in [\"prod\", \"page\",\"pageset\"]:\n",
    "    msg += \"\\nSolutions and important attributes for %s:\\n\\n\" % probtype\n",
    "    n, bins, plot = hist(Mprod, range=(0,70), bins=35)\n",
    "    msg += str(n)+\"\\n\\n\"\n",
    "    for k in sorted(importanceDict[\"prod\"], key=importanceDict[\"prod\"].get, reverse=True):\n",
    "        msg += \"%s:\\t%i\\n\" % (k,importanceDict[\"prod\"][k]) "
   ]
  },
  {
   "cell_type": "code",
   "execution_count": 11,
   "metadata": {
    "collapsed": false
   },
   "outputs": [
    {
     "data": {
      "text/plain": [
       "<module 'rankLP' from 'rankLP.py'>"
      ]
     },
     "execution_count": 11,
     "metadata": {},
     "output_type": "execute_result"
    }
   ],
   "source": [
    "reload(rlp)"
   ]
  },
  {
   "cell_type": "code",
   "execution_count": 31,
   "metadata": {
    "collapsed": false
   },
   "outputs": [
    {
     "name": "stdout",
     "output_type": "stream",
     "text": [
      "a__DOVE\n",
      "a__HAZELINE\n",
      "a__LIFEBUOY\n",
      "a__LUX\n",
      "a__LYNX\n",
      "a__agg02\n",
      "a__agg04\n",
      "a__agg07\n",
      "a__agg09\n",
      "a__agg10\n",
      "a__agg11\n",
      "a__agg12\n",
      "a__agg13\n",
      "a__agg14\n",
      "a__agg15\n",
      "a__agg16\n",
      "a__agg17\n",
      "a__allcomments\n",
      "a__c26\n",
      "a__c28\n",
      "a__c30\n",
      "a__c34\n",
      "a__c45\n",
      "a__currentprice\n",
      "a__dummy1\n",
      "a__dummy2\n",
      "a__featagg01\n",
      "a__featagg013\n",
      "a__featagg02\n",
      "a__featagg03\n",
      "a__featagg033\n",
      "a__featagg04\n",
      "a__featagg043\n",
      "a__featagg05\n",
      "a__featagg053\n",
      "a__featagg07\n",
      "a__featagg073\n",
      "a__featagg08\n",
      "a__hasAttr00\n",
      "a__hasAttr01\n",
      "a__hasAttr02\n",
      "a__hasAttr03\n",
      "a__hasAttr04\n",
      "a__hasAttr05\n",
      "a__hasAttr06\n",
      "a__is_in_stock\n",
      "a__medium_comment_num\n",
      "a__negative_comment_num\n",
      "a__positive_comment_num\n",
      "a__q30\n",
      "a__rank14\n",
      "a__rank30\n",
      "a__rank60\n",
      "a__rank7\n",
      "v_0_0009\n",
      "v_0_0027\n",
      "v_0_0031\n",
      "v_0_0041\n",
      "v_0_0048\n",
      "v_0_0056\n",
      "v_0_0060\n",
      "v_0_0075\n",
      "v_0_0085\n",
      "v_0_0088\n",
      "v_0_0090\n",
      "v_0_0106\n",
      "v_0_0127\n",
      "v_0_0158\n",
      "v_0_0186\n",
      "v_0_0197\n",
      "v_0_0209\n",
      "v_0_0231\n",
      "v_0_0291\n",
      "v_0_0386\n",
      "v_0_0416\n",
      "v_0_0461\n",
      "v_0_0472\n",
      "v_0_0484\n",
      "v_0_0511\n",
      "v_0_0673\n",
      "v_0_0730\n",
      "v_0_0762\n",
      "v_0_1010\n",
      "v_0_1232\n"
     ]
    }
   ],
   "source": [
    "for a in prob_prod.variables():\n",
    "    print a"
   ]
  },
  {
   "cell_type": "code",
   "execution_count": 35,
   "metadata": {
    "collapsed": false
   },
   "outputs": [],
   "source": [
    "df.q30.index=np.arange(1,len(df.q30)+1)"
   ]
  },
  {
   "cell_type": "code",
   "execution_count": 42,
   "metadata": {
    "collapsed": false
   },
   "outputs": [
    {
     "data": {
      "text/plain": [
       "65    0.004911\n",
       "66    0.001857\n",
       "67    0.004050\n",
       "68    0.001467\n",
       "69    0.000702\n",
       "Name: q30, dtype: float64"
      ]
     },
     "execution_count": 42,
     "metadata": {},
     "output_type": "execute_result"
    }
   ],
   "source": [
    "df.q30[-5:]"
   ]
  },
  {
   "cell_type": "code",
   "execution_count": 47,
   "metadata": {
    "collapsed": false
   },
   "outputs": [
    {
     "name": "stdout",
     "output_type": "stream",
     "text": [
      "69\n",
      "54\n",
      "Index([u'0004', u'0007', u'0009', u'0027', u'0031', u'0039', u'0041', u'0048',\n",
      "       u'0054', u'0056', u'0060', u'0066', u'0075', u'0083', u'0084', u'0085',\n",
      "       u'0088', u'0090', u'0106', u'0127', u'0129', u'0131', u'0139', u'0150',\n",
      "       u'0158', u'0186', u'0189', u'0196', u'0197', u'0209', u'0221', u'0231',\n",
      "       u'0247', u'0248', u'0252', u'0263', u'0291', u'0303', u'0315', u'0374',\n",
      "       u'0386', u'0400', u'0410', u'0411', u'0414', u'0416', u'0426', u'0432',\n",
      "       u'0450', u'0457', u'0461', u'0472', u'0474', u'0484', u'0507', u'0511',\n",
      "       u'0517', u'0518', u'0521', u'0605', u'0673', u'0730', u'0735', u'0762',\n",
      "       u'0813', u'1010', u'1232', u'1322', u'1346'],\n",
      "      dtype='object')\n",
      "Index([                 u'q30',          u'allcomments',\n",
      "                      u'rank7',               u'rank14',\n",
      "                     u'rank30',               u'rank60',\n",
      "               u'currentprice',                  u'c26',\n",
      "                        u'c28',                  u'c30',\n",
      "                        u'c34',                  u'c45',\n",
      "                      u'agg02',                u'agg04',\n",
      "                      u'agg07',          u'is_in_stock',\n",
      "       u'positive_comment_num',   u'medium_comment_num',\n",
      "       u'negative_comment_num',                u'agg17',\n",
      "                      u'agg13',                u'agg14',\n",
      "                      u'agg15',                u'agg16',\n",
      "                      u'agg09',                u'agg10',\n",
      "                      u'agg11',                u'agg12',\n",
      "                  u'featagg01',            u'featagg02',\n",
      "                  u'featagg03',            u'featagg04',\n",
      "                  u'featagg05',            u'featagg07',\n",
      "                  u'featagg08',           u'featagg013',\n",
      "                 u'featagg033',           u'featagg043',\n",
      "                 u'featagg053',           u'featagg073',\n",
      "                       u'DOVE',             u'HAZELINE',\n",
      "                   u'LIFEBUOY',                  u'LUX',\n",
      "                       u'LYNX',            u'hasAttr00',\n",
      "                  u'hasAttr01',            u'hasAttr02',\n",
      "                  u'hasAttr03',            u'hasAttr04',\n",
      "                  u'hasAttr05',            u'hasAttr06',\n",
      "                     u'dummy1',               u'dummy2'],\n",
      "      dtype='object')\n"
     ]
    }
   ],
   "source": [
    "nrows, ncols   = df.shape\n",
    "rnames, cnames  = df.index, df.columns\n",
    "print nrows\n",
    "print ncols\n",
    "print rnames\n",
    "print cnames"
   ]
  },
  {
   "cell_type": "code",
   "execution_count": 50,
   "metadata": {
    "collapsed": true
   },
   "outputs": [],
   "source": [
    "from examples.df929 import df"
   ]
  },
  {
   "cell_type": "code",
   "execution_count": 65,
   "metadata": {
    "collapsed": false
   },
   "outputs": [],
   "source": [
    "s = df[\"rank7\"]"
   ]
  },
  {
   "cell_type": "code",
   "execution_count": 1,
   "metadata": {
    "collapsed": false
   },
   "outputs": [
    {
     "name": "stdout",
     "output_type": "stream",
     "text": [
      "category [30010303] fenlei [沐浴乳 露]\n",
      "Total rows (M) before preprocessing: 152\n"
     ]
    }
   ],
   "source": [
    "from examples.dfsept import df, chnAttLookup\n"
   ]
  },
  {
   "cell_type": "code",
   "execution_count": 6,
   "metadata": {
    "collapsed": false
   },
   "outputs": [
    {
     "data": {
      "text/plain": [
       "'dd'"
      ]
     },
     "execution_count": 6,
     "metadata": {},
     "output_type": "execute_result"
    }
   ],
   "source": [
    "sss= \"dsd\"\n",
    "sss.replace(\"s\",\"\")"
   ]
  },
  {
   "cell_type": "code",
   "execution_count": 7,
   "metadata": {
    "collapsed": false
   },
   "outputs": [
    {
     "data": {
      "text/plain": [
       "(73, 58)"
      ]
     },
     "execution_count": 7,
     "metadata": {},
     "output_type": "execute_result"
    }
   ],
   "source": [
    "df.shape"
   ]
  },
  {
   "cell_type": "code",
   "execution_count": 3,
   "metadata": {
    "collapsed": false
   },
   "outputs": [
    {
     "data": {
      "text/plain": [
       "Index([         u'q30',       u'rank14',        u'rank7',       u'rank30',\n",
       "             u'rank60', u'currentprice',  u'allcomments',          u'c26',\n",
       "                u'c28',          u'c30',          u'c34',          u'c45',\n",
       "              u'agg02',        u'agg08',     u'is_promo',        u'agg17',\n",
       "              u'agg13',        u'agg14',        u'agg15',        u'agg16',\n",
       "              u'agg09',        u'agg10',        u'agg11',        u'agg12',\n",
       "          u'featagg01',    u'featagg02',    u'featagg03',    u'featagg04',\n",
       "          u'featagg05',    u'featagg06',    u'featagg07',    u'featagg08',\n",
       "         u'featagg013',   u'featagg033',   u'featagg043',   u'featagg053',\n",
       "         u'featagg063',   u'featagg073',         u'DOVE',     u'HAZELINE',\n",
       "           u'LIFEBUOY',          u'LUX',         u'LYNX',    u'hasAttr00',\n",
       "          u'hasAttr01',    u'hasAttr02',    u'hasAttr03',    u'hasAttr04',\n",
       "          u'hasAttr05',    u'hasAttr06',    u'hasAttr07',     u'no_promo',\n",
       "          u'hasAttr08',    u'hasAttr09',    u'hasAttr10',       u'dummy1',\n",
       "             u'dummy2',         u'page'],\n",
       "      dtype='object')"
      ]
     },
     "execution_count": 3,
     "metadata": {},
     "output_type": "execute_result"
    }
   ],
   "source": [
    "df.columns"
   ]
  },
  {
   "cell_type": "code",
   "execution_count": 77,
   "metadata": {
    "collapsed": false
   },
   "outputs": [],
   "source": [
    "from examples.df929 import df as df2"
   ]
  },
  {
   "cell_type": "code",
   "execution_count": 79,
   "metadata": {
    "collapsed": false
   },
   "outputs": [
    {
     "data": {
      "text/plain": [
       "Index([                 u'q30',          u'allcomments',\n",
       "                      u'rank7',               u'rank14',\n",
       "                     u'rank30',               u'rank60',\n",
       "               u'currentprice',                  u'c26',\n",
       "                        u'c28',                  u'c30',\n",
       "                        u'c34',                  u'c45',\n",
       "                      u'agg02',                u'agg04',\n",
       "                      u'agg07',          u'is_in_stock',\n",
       "       u'positive_comment_num',   u'medium_comment_num',\n",
       "       u'negative_comment_num',                u'agg17',\n",
       "                      u'agg13',                u'agg14',\n",
       "                      u'agg15',                u'agg16',\n",
       "                      u'agg09',                u'agg10',\n",
       "                      u'agg11',                u'agg12',\n",
       "                  u'featagg01',            u'featagg02',\n",
       "                  u'featagg03',            u'featagg04',\n",
       "                  u'featagg05',            u'featagg07',\n",
       "                  u'featagg08',           u'featagg013',\n",
       "                 u'featagg033',           u'featagg043',\n",
       "                 u'featagg053',           u'featagg073',\n",
       "                       u'DOVE',             u'HAZELINE',\n",
       "                   u'LIFEBUOY',                  u'LUX',\n",
       "                       u'LYNX',            u'hasAttr00',\n",
       "                  u'hasAttr01',            u'hasAttr02',\n",
       "                  u'hasAttr03',            u'hasAttr04',\n",
       "                  u'hasAttr05',            u'hasAttr06',\n",
       "                     u'dummy1',               u'dummy2',\n",
       "                       u'page'],\n",
       "      dtype='object')"
      ]
     },
     "execution_count": 79,
     "metadata": {},
     "output_type": "execute_result"
    }
   ],
   "source": [
    "df2.columns"
   ]
  },
  {
   "cell_type": "code",
   "execution_count": 95,
   "metadata": {
    "collapsed": false
   },
   "outputs": [],
   "source": [
    "#df = df2\n",
    "df = rlp.normalizeColumns(df, normConstant=1000)\n",
    "df = rlp.flipRankCols(df)\n",
    "\n",
    "####2016-10-11 [Evan] Add a bin/int tag to columnnames\n",
    "bincolumns = [col for col in df.columns if len(df[col].unique())<=3 and col!=\"page\"]\n",
    "df = df.rename(columns={name: name+\"bin\" for name in bincolumns})\n",
    "intcolumns = [col for col in df.columns if len(df[col].unique())>3 and col!=\"page\"]\n",
    "df = df.rename(columns={name: name+\"int\" for name in intcolumns})"
   ]
  },
  {
   "cell_type": "code",
   "execution_count": 14,
   "metadata": {
    "collapsed": false
   },
   "outputs": [
    {
     "name": "stdout",
     "output_type": "stream",
     "text": [
      "category [30010303] fenlei [沐浴乳 露]\n",
      "Total rows (M) before preprocessing: 147\n"
     ]
    }
   ],
   "source": [
    "from examples.df929 import df as d2"
   ]
  },
  {
   "cell_type": "code",
   "execution_count": 1,
   "metadata": {
    "collapsed": false,
    "scrolled": true
   },
   "outputs": [
    {
     "name": "stdout",
     "output_type": "stream",
     "text": [
      "category [30010303] fenlei [沐浴乳 露]\n",
      "Total rows (M) before preprocessing: 152\n"
     ]
    },
    {
     "data": {
      "text/html": [
       "<div>\n",
       "<table border=\"1\" class=\"dataframe\">\n",
       "  <thead>\n",
       "    <tr style=\"text-align: right;\">\n",
       "      <th></th>\n",
       "      <th>q30</th>\n",
       "      <th>rank14</th>\n",
       "      <th>rank7</th>\n",
       "      <th>rank30</th>\n",
       "      <th>rank60</th>\n",
       "      <th>currentprice</th>\n",
       "      <th>allcomments</th>\n",
       "      <th>c26</th>\n",
       "      <th>c28</th>\n",
       "      <th>c30</th>\n",
       "      <th>...</th>\n",
       "      <th>hasAttr07</th>\n",
       "      <th>hasAttr08</th>\n",
       "      <th>hasAttr09</th>\n",
       "      <th>hasAttr10</th>\n",
       "      <th>hasAttr11</th>\n",
       "      <th>hasAttr12</th>\n",
       "      <th>hasAttr13</th>\n",
       "      <th>dummy1</th>\n",
       "      <th>dummy2</th>\n",
       "      <th>page</th>\n",
       "    </tr>\n",
       "  </thead>\n",
       "  <tbody>\n",
       "    <tr>\n",
       "      <th>0004</th>\n",
       "      <td>26820.000000</td>\n",
       "      <td>1.0</td>\n",
       "      <td>1.0</td>\n",
       "      <td>4.0</td>\n",
       "      <td>14.0</td>\n",
       "      <td>39.50</td>\n",
       "      <td>193961.0</td>\n",
       "      <td>580.0</td>\n",
       "      <td>580.0</td>\n",
       "      <td>580.0</td>\n",
       "      <td>...</td>\n",
       "      <td>0</td>\n",
       "      <td>0</td>\n",
       "      <td>0</td>\n",
       "      <td>1</td>\n",
       "      <td>0</td>\n",
       "      <td>0</td>\n",
       "      <td>0</td>\n",
       "      <td>0</td>\n",
       "      <td>0</td>\n",
       "      <td>1</td>\n",
       "    </tr>\n",
       "    <tr>\n",
       "      <th>0009</th>\n",
       "      <td>26287.500000</td>\n",
       "      <td>7.0</td>\n",
       "      <td>6.0</td>\n",
       "      <td>9.0</td>\n",
       "      <td>10.0</td>\n",
       "      <td>55.90</td>\n",
       "      <td>158817.0</td>\n",
       "      <td>363.0</td>\n",
       "      <td>363.0</td>\n",
       "      <td>363.0</td>\n",
       "      <td>...</td>\n",
       "      <td>0</td>\n",
       "      <td>0</td>\n",
       "      <td>1</td>\n",
       "      <td>0</td>\n",
       "      <td>0</td>\n",
       "      <td>0</td>\n",
       "      <td>0</td>\n",
       "      <td>0</td>\n",
       "      <td>1</td>\n",
       "      <td>1</td>\n",
       "    </tr>\n",
       "    <tr>\n",
       "      <th>0011</th>\n",
       "      <td>12106.142857</td>\n",
       "      <td>12.0</td>\n",
       "      <td>12.0</td>\n",
       "      <td>7.0</td>\n",
       "      <td>13.0</td>\n",
       "      <td>68.00</td>\n",
       "      <td>29773.0</td>\n",
       "      <td>994.0</td>\n",
       "      <td>1030.0</td>\n",
       "      <td>1030.0</td>\n",
       "      <td>...</td>\n",
       "      <td>1</td>\n",
       "      <td>0</td>\n",
       "      <td>0</td>\n",
       "      <td>0</td>\n",
       "      <td>0</td>\n",
       "      <td>0</td>\n",
       "      <td>0</td>\n",
       "      <td>0</td>\n",
       "      <td>1</td>\n",
       "      <td>1</td>\n",
       "    </tr>\n",
       "    <tr>\n",
       "      <th>0027</th>\n",
       "      <td>7317.857143</td>\n",
       "      <td>26.0</td>\n",
       "      <td>29.0</td>\n",
       "      <td>56.0</td>\n",
       "      <td>33.0</td>\n",
       "      <td>68.00</td>\n",
       "      <td>9561.0</td>\n",
       "      <td>1003.0</td>\n",
       "      <td>1181.0</td>\n",
       "      <td>1195.0</td>\n",
       "      <td>...</td>\n",
       "      <td>1</td>\n",
       "      <td>0</td>\n",
       "      <td>0</td>\n",
       "      <td>0</td>\n",
       "      <td>1</td>\n",
       "      <td>0</td>\n",
       "      <td>0</td>\n",
       "      <td>1</td>\n",
       "      <td>1</td>\n",
       "      <td>1</td>\n",
       "    </tr>\n",
       "    <tr>\n",
       "      <th>0031</th>\n",
       "      <td>34007.142857</td>\n",
       "      <td>37.0</td>\n",
       "      <td>32.0</td>\n",
       "      <td>31.0</td>\n",
       "      <td>56.0</td>\n",
       "      <td>45.90</td>\n",
       "      <td>92654.0</td>\n",
       "      <td>173.0</td>\n",
       "      <td>173.0</td>\n",
       "      <td>173.0</td>\n",
       "      <td>...</td>\n",
       "      <td>0</td>\n",
       "      <td>0</td>\n",
       "      <td>1</td>\n",
       "      <td>0</td>\n",
       "      <td>0</td>\n",
       "      <td>0</td>\n",
       "      <td>0</td>\n",
       "      <td>1</td>\n",
       "      <td>1</td>\n",
       "      <td>1</td>\n",
       "    </tr>\n",
       "    <tr>\n",
       "      <th>0037</th>\n",
       "      <td>5306.785714</td>\n",
       "      <td>38.0</td>\n",
       "      <td>38.0</td>\n",
       "      <td>60.0</td>\n",
       "      <td>127.0</td>\n",
       "      <td>47.19</td>\n",
       "      <td>5570.0</td>\n",
       "      <td>884.0</td>\n",
       "      <td>946.0</td>\n",
       "      <td>1009.0</td>\n",
       "      <td>...</td>\n",
       "      <td>0</td>\n",
       "      <td>0</td>\n",
       "      <td>1</td>\n",
       "      <td>0</td>\n",
       "      <td>0</td>\n",
       "      <td>0</td>\n",
       "      <td>0</td>\n",
       "      <td>0</td>\n",
       "      <td>1</td>\n",
       "      <td>1</td>\n",
       "    </tr>\n",
       "    <tr>\n",
       "      <th>0052</th>\n",
       "      <td>41553.214286</td>\n",
       "      <td>40.0</td>\n",
       "      <td>37.0</td>\n",
       "      <td>41.0</td>\n",
       "      <td>112.0</td>\n",
       "      <td>45.90</td>\n",
       "      <td>10391.0</td>\n",
       "      <td>409.0</td>\n",
       "      <td>466.0</td>\n",
       "      <td>466.0</td>\n",
       "      <td>...</td>\n",
       "      <td>0</td>\n",
       "      <td>0</td>\n",
       "      <td>1</td>\n",
       "      <td>0</td>\n",
       "      <td>0</td>\n",
       "      <td>0</td>\n",
       "      <td>0</td>\n",
       "      <td>0</td>\n",
       "      <td>0</td>\n",
       "      <td>1</td>\n",
       "    </tr>\n",
       "    <tr>\n",
       "      <th>0053</th>\n",
       "      <td>5607.857143</td>\n",
       "      <td>42.0</td>\n",
       "      <td>45.0</td>\n",
       "      <td>39.0</td>\n",
       "      <td>72.0</td>\n",
       "      <td>55.90</td>\n",
       "      <td>24042.0</td>\n",
       "      <td>929.0</td>\n",
       "      <td>1048.0</td>\n",
       "      <td>1137.0</td>\n",
       "      <td>...</td>\n",
       "      <td>0</td>\n",
       "      <td>0</td>\n",
       "      <td>1</td>\n",
       "      <td>0</td>\n",
       "      <td>0</td>\n",
       "      <td>0</td>\n",
       "      <td>0</td>\n",
       "      <td>0</td>\n",
       "      <td>1</td>\n",
       "      <td>1</td>\n",
       "    </tr>\n",
       "    <tr>\n",
       "      <th>0067</th>\n",
       "      <td>4731.428571</td>\n",
       "      <td>33.0</td>\n",
       "      <td>52.0</td>\n",
       "      <td>27.0</td>\n",
       "      <td>11.0</td>\n",
       "      <td>73.90</td>\n",
       "      <td>17702.0</td>\n",
       "      <td>1023.0</td>\n",
       "      <td>1134.0</td>\n",
       "      <td>1134.0</td>\n",
       "      <td>...</td>\n",
       "      <td>0</td>\n",
       "      <td>1</td>\n",
       "      <td>0</td>\n",
       "      <td>0</td>\n",
       "      <td>0</td>\n",
       "      <td>0</td>\n",
       "      <td>0</td>\n",
       "      <td>0</td>\n",
       "      <td>1</td>\n",
       "      <td>2</td>\n",
       "    </tr>\n",
       "    <tr>\n",
       "      <th>0076</th>\n",
       "      <td>2516.785714</td>\n",
       "      <td>80.0</td>\n",
       "      <td>87.0</td>\n",
       "      <td>85.0</td>\n",
       "      <td>184.0</td>\n",
       "      <td>47.20</td>\n",
       "      <td>3695.0</td>\n",
       "      <td>429.0</td>\n",
       "      <td>471.0</td>\n",
       "      <td>518.0</td>\n",
       "      <td>...</td>\n",
       "      <td>0</td>\n",
       "      <td>0</td>\n",
       "      <td>1</td>\n",
       "      <td>0</td>\n",
       "      <td>0</td>\n",
       "      <td>0</td>\n",
       "      <td>0</td>\n",
       "      <td>1</td>\n",
       "      <td>0</td>\n",
       "      <td>2</td>\n",
       "    </tr>\n",
       "  </tbody>\n",
       "</table>\n",
       "<p>10 rows × 63 columns</p>\n",
       "</div>"
      ],
      "text/plain": [
       "               q30  rank14  rank7  rank30  rank60  currentprice  allcomments  \\\n",
       "0004  26820.000000     1.0    1.0     4.0    14.0         39.50     193961.0   \n",
       "0009  26287.500000     7.0    6.0     9.0    10.0         55.90     158817.0   \n",
       "0011  12106.142857    12.0   12.0     7.0    13.0         68.00      29773.0   \n",
       "0027   7317.857143    26.0   29.0    56.0    33.0         68.00       9561.0   \n",
       "0031  34007.142857    37.0   32.0    31.0    56.0         45.90      92654.0   \n",
       "0037   5306.785714    38.0   38.0    60.0   127.0         47.19       5570.0   \n",
       "0052  41553.214286    40.0   37.0    41.0   112.0         45.90      10391.0   \n",
       "0053   5607.857143    42.0   45.0    39.0    72.0         55.90      24042.0   \n",
       "0067   4731.428571    33.0   52.0    27.0    11.0         73.90      17702.0   \n",
       "0076   2516.785714    80.0   87.0    85.0   184.0         47.20       3695.0   \n",
       "\n",
       "         c26     c28     c30  ...   hasAttr07  hasAttr08  hasAttr09  \\\n",
       "0004   580.0   580.0   580.0  ...           0          0          0   \n",
       "0009   363.0   363.0   363.0  ...           0          0          1   \n",
       "0011   994.0  1030.0  1030.0  ...           1          0          0   \n",
       "0027  1003.0  1181.0  1195.0  ...           1          0          0   \n",
       "0031   173.0   173.0   173.0  ...           0          0          1   \n",
       "0037   884.0   946.0  1009.0  ...           0          0          1   \n",
       "0052   409.0   466.0   466.0  ...           0          0          1   \n",
       "0053   929.0  1048.0  1137.0  ...           0          0          1   \n",
       "0067  1023.0  1134.0  1134.0  ...           0          1          0   \n",
       "0076   429.0   471.0   518.0  ...           0          0          1   \n",
       "\n",
       "      hasAttr10  hasAttr11  hasAttr12  hasAttr13  dummy1  dummy2  page  \n",
       "0004          1          0          0          0       0       0     1  \n",
       "0009          0          0          0          0       0       1     1  \n",
       "0011          0          0          0          0       0       1     1  \n",
       "0027          0          1          0          0       1       1     1  \n",
       "0031          0          0          0          0       1       1     1  \n",
       "0037          0          0          0          0       0       1     1  \n",
       "0052          0          0          0          0       0       0     1  \n",
       "0053          0          0          0          0       0       1     1  \n",
       "0067          0          0          0          0       0       1     2  \n",
       "0076          0          0          0          0       1       0     2  \n",
       "\n",
       "[10 rows x 63 columns]"
      ]
     },
     "execution_count": 1,
     "metadata": {},
     "output_type": "execute_result"
    }
   ],
   "source": [
    "from examples.dfsept import df\n",
    "df.head(10)"
   ]
  },
  {
   "cell_type": "code",
   "execution_count": 3,
   "metadata": {
    "collapsed": false
   },
   "outputs": [
    {
     "data": {
      "text/plain": [
       "Index([                 u'q30',               u'rank14',\n",
       "                      u'rank7',               u'rank30',\n",
       "                     u'rank60',         u'currentprice',\n",
       "                u'allcomments',                  u'c26',\n",
       "                        u'c28',                  u'c30',\n",
       "                        u'c34',                  u'c45',\n",
       "                      u'agg02',                u'agg07',\n",
       "                      u'agg08',             u'is_promo',\n",
       "       u'positive_comment_num',   u'medium_comment_num',\n",
       "       u'negative_comment_num',                u'agg17',\n",
       "                      u'agg13',                u'agg14',\n",
       "                      u'agg15',                u'agg16',\n",
       "                      u'agg09',                u'agg10',\n",
       "                      u'agg11',                u'agg12',\n",
       "                  u'featagg01',            u'featagg02',\n",
       "                  u'featagg03',            u'featagg04',\n",
       "                  u'featagg05',            u'featagg07',\n",
       "                  u'featagg08',           u'featagg013',\n",
       "                 u'featagg033',           u'featagg043',\n",
       "                 u'featagg053',           u'featagg073',\n",
       "                       u'DOVE',             u'HAZELINE',\n",
       "                   u'LIFEBUOY',                  u'LUX',\n",
       "                       u'LYNX',            u'hasAttr00',\n",
       "                  u'hasAttr01',            u'hasAttr02',\n",
       "                  u'hasAttr03',            u'hasAttr04',\n",
       "                  u'hasAttr05',            u'hasAttr06',\n",
       "                   u'no_promo',            u'hasAttr07',\n",
       "                  u'hasAttr08',            u'hasAttr09',\n",
       "                  u'hasAttr10',            u'hasAttr11',\n",
       "                  u'hasAttr12',            u'hasAttr13',\n",
       "                     u'dummy1',               u'dummy2',\n",
       "                       u'page'],\n",
       "      dtype='object')"
      ]
     },
     "execution_count": 3,
     "metadata": {},
     "output_type": "execute_result"
    }
   ],
   "source": [
    "df.columns"
   ]
  },
  {
   "cell_type": "code",
   "execution_count": 107,
   "metadata": {
    "collapsed": false
   },
   "outputs": [
    {
     "data": {
      "text/plain": [
       "(72, 59)"
      ]
     },
     "execution_count": 107,
     "metadata": {},
     "output_type": "execute_result"
    }
   ],
   "source": [
    "df.reset_index().drop_duplicates(subset=\"index\").shape"
   ]
  },
  {
   "cell_type": "code",
   "execution_count": 109,
   "metadata": {
    "collapsed": false
   },
   "outputs": [],
   "source": [
    "df = df[~df.index.duplicated(keep='first')]"
   ]
  },
  {
   "cell_type": "code",
   "execution_count": 110,
   "metadata": {
    "collapsed": false
   },
   "outputs": [
    {
     "data": {
      "text/plain": [
       "(72, 58)"
      ]
     },
     "execution_count": 110,
     "metadata": {},
     "output_type": "execute_result"
    }
   ],
   "source": [
    "df.shape"
   ]
  },
  {
   "cell_type": "code",
   "execution_count": 2,
   "metadata": {
    "collapsed": false
   },
   "outputs": [],
   "source": [
    "import rankLP as rlp\n",
    "from examples.dfsept import df, chnAttLookup\n",
    "\n",
    "####2016-10-12 [Evan] Remove columns\n",
    "removeThese=[\"agg02\",\"featagg08\", \"featagg02\", u'rank7', u'rank14', u'rank60', u'c28', u'c30', u'c34', u'c45']\n",
    "df = df.drop(removeThese, axis=1)\n",
    "\n",
    "####2016-10-09 [Evan] Normalize columns (optional)\n",
    "df = rlp.normalizeColumns(df, normConstant=1000)\n",
    "df = rlp.flipRankCols(df)\n",
    "\n",
    "####2016-10-11 [Evan] Add a bin/int tag to columnnames\n",
    "bincolumns = [col for col in df.columns if len(df[col].unique())<=3 and col!=\"page\"]\n",
    "df = df.rename(columns={name: name+\"bin\" for name in bincolumns})\n",
    "intcolumns = [col for col in df.columns if len(df[col].unique())>3 and col!=\"page\"]\n",
    "df = df.rename(columns={name: name+\"int\" for name in intcolumns})\n",
    "\n",
    "####2016-10-13 [Evan] scale int columns by 100\n",
    "\n",
    "#for col in df.columns:\n",
    "#    if col.endswith(\"int\"):\n",
    "#        df[col] = df[col]*100\n",
    "#\n",
    "#### can remove after it successfully works with normalizeColumns method\n",
    "\n",
    "####2016-10-17 [Evan] remove duplicate rows\n",
    "\n",
    "df = df[~df.index.duplicated(keep='first')]"
   ]
  },
  {
   "cell_type": "code",
   "execution_count": 10,
   "metadata": {
    "collapsed": false
   },
   "outputs": [],
   "source": [
    "df.columns = [str(s.replace(\"_\",\"\")) for s in df.columns]"
   ]
  },
  {
   "cell_type": "code",
   "execution_count": 12,
   "metadata": {
    "collapsed": false
   },
   "outputs": [
    {
     "data": {
      "text/plain": [
       "Index([u'q30int', u'rank30int', u'currentpriceint', u'allcommentsint',\n",
       "       u'c26int', u'agg08bin', u'ispromobin', u'agg17int', u'agg13int',\n",
       "       u'agg14int', u'agg15int', u'agg16int', u'agg09int', u'agg10int',\n",
       "       u'agg11int', u'agg12int', u'featagg01int', u'featagg03int',\n",
       "       u'featagg04int', u'featagg05int', u'featagg06bin', u'featagg07bin',\n",
       "       u'featagg013bin', u'featagg033int', u'featagg043int', u'featagg053int',\n",
       "       u'featagg063bin', u'featagg073bin', u'DOVEbin', u'HAZELINEbin',\n",
       "       u'LIFEBUOYbin', u'LUXbin', u'LYNXbin', u'hasAttr00bin', u'hasAttr01bin',\n",
       "       u'hasAttr02bin', u'hasAttr03bin', u'hasAttr04bin', u'hasAttr05bin',\n",
       "       u'hasAttr06bin', u'hasAttr07bin', u'nopromobin', u'hasAttr08bin',\n",
       "       u'hasAttr09bin', u'hasAttr10bin', u'dummy1bin', u'dummy2bin', u'page'],\n",
       "      dtype='object')"
      ]
     },
     "execution_count": 12,
     "metadata": {},
     "output_type": "execute_result"
    }
   ],
   "source": [
    "df.columns"
   ]
  },
  {
   "cell_type": "code",
   "execution_count": null,
   "metadata": {
    "collapsed": true
   },
   "outputs": [],
   "source": []
  }
 ],
 "metadata": {
  "kernelspec": {
   "display_name": "Python 2",
   "language": "python",
   "name": "python2"
  },
  "language_info": {
   "codemirror_mode": {
    "name": "ipython",
    "version": 2
   },
   "file_extension": ".py",
   "mimetype": "text/x-python",
   "name": "python",
   "nbconvert_exporter": "python",
   "pygments_lexer": "ipython2",
   "version": "2.7.9"
  }
 },
 "nbformat": 4,
 "nbformat_minor": 0
}
